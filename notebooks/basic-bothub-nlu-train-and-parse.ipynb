{
 "cells": [
  {
   "cell_type": "markdown",
   "metadata": {},
   "source": [
    "# Basic Rasa Pipeline: train and parse\n",
    "\n",
    "This file can be used as template to test new Rasa NLU's components."
   ]
  },
  {
   "cell_type": "markdown",
   "metadata": {},
   "source": [
    "## Train"
   ]
  },
  {
   "cell_type": "markdown",
   "metadata": {},
   "source": [
    "1. Import project base dir and setup Django application"
   ]
  },
  {
   "cell_type": "code",
   "execution_count": 32,
   "metadata": {},
   "outputs": [],
   "source": [
    "import sys\n",
    "import os\n",
    "import django\n",
    "\n",
    "sys.path.append('..')\n",
    "os.environ.setdefault(\"DJANGO_SETTINGS_MODULE\", \"bothub.settings\")\n",
    "django.setup()"
   ]
  },
  {
   "cell_type": "markdown",
   "metadata": {},
   "source": [
    "2. Create a repository update instance with train configs"
   ]
  },
  {
   "cell_type": "code",
   "execution_count": 33,
   "metadata": {},
   "outputs": [
    {
     "name": "stdout",
     "output_type": "stream",
     "text": [
      "Repository Update #1\n"
     ]
    }
   ],
   "source": [
    "from bothub.common.models import RepositoryUpdate\n",
    "from bothub.common import languages\n",
    "\n",
    "update = RepositoryUpdate(\n",
    "    id=1,\n",
    "    language=languages.LANGUAGE_EN,\n",
    ")\n",
    "print(update)"
   ]
  },
  {
   "cell_type": "markdown",
   "metadata": {},
   "source": [
    "3. Get Rasa NLU config from repository update"
   ]
  },
  {
   "cell_type": "code",
   "execution_count": 34,
   "metadata": {},
   "outputs": [
    {
     "name": "stdout",
     "output_type": "stream",
     "text": [
      "<rasa_nlu.config.RasaNLUModelConfig object at 0x7f8b81b84c88>\n"
     ]
    }
   ],
   "source": [
    "from bothub_nlp.core.train import get_rasa_nlu_config_from_update\n",
    "\n",
    "rasa_nlu_config = get_rasa_nlu_config_from_update(update)\n",
    "print(rasa_nlu_config)"
   ]
  },
  {
   "cell_type": "markdown",
   "metadata": {},
   "source": [
    "4. Init Trainer instance"
   ]
  },
  {
   "cell_type": "code",
   "execution_count": 35,
   "metadata": {},
   "outputs": [
    {
     "name": "stdout",
     "output_type": "stream",
     "text": [
      "<rasa_nlu.model.Trainer object at 0x7f8b81b84da0>\n"
     ]
    }
   ],
   "source": [
    "from rasa_nlu.model import Trainer\n",
    "\n",
    "trainer = Trainer(rasa_nlu_config)\n",
    "print(trainer)"
   ]
  },
  {
   "cell_type": "markdown",
   "metadata": {},
   "source": [
    "5. Create a training data"
   ]
  },
  {
   "cell_type": "code",
   "execution_count": 36,
   "metadata": {},
   "outputs": [],
   "source": [
    "from bothub_nlp.core.train import BothubTrainingData\n",
    "from rasa_nlu.training_data import Message\n",
    "\n",
    "training_data = BothubTrainingData(\n",
    "    label_training_examples=[\n",
    "    ],\n",
    "    training_examples=[\n",
    "        Message.build(\n",
    "            text='hi',\n",
    "            intent='greeting',\n",
    "        ),\n",
    "        Message.build(\n",
    "            text='hello',\n",
    "            intent='greeting',\n",
    "        ),\n",
    "        Message.build(\n",
    "            text='bye',\n",
    "            intent='bye',\n",
    "        ),\n",
    "        Message.build(\n",
    "            text='see you later',\n",
    "            intent='bye',\n",
    "        ),\n",
    "    ],\n",
    ")"
   ]
  },
  {
   "cell_type": "markdown",
   "metadata": {},
   "source": [
    "6. Train"
   ]
  },
  {
   "cell_type": "code",
   "execution_count": 37,
   "metadata": {},
   "outputs": [
    {
     "name": "stderr",
     "output_type": "stream",
     "text": [
      "Epochs: 100%|██████████| 300/300 [00:02<00:00, 102.50it/s, loss=0.103, acc=1.000]\n"
     ]
    }
   ],
   "source": [
    "interpreter = trainer.train(training_data)"
   ]
  },
  {
   "cell_type": "markdown",
   "metadata": {},
   "source": [
    "7. Parse"
   ]
  },
  {
   "cell_type": "code",
   "execution_count": 38,
   "metadata": {},
   "outputs": [
    {
     "data": {
      "text/plain": [
       "{'intent': {'name': 'greeting', 'confidence': 0.9636795520782471},\n",
       " 'entities': [],\n",
       " 'intent_ranking': [{'name': 'greeting', 'confidence': 0.9636795520782471},\n",
       "  {'name': 'bye', 'confidence': 0.0}],\n",
       " 'labels_as_entity': [],\n",
       " 'text': 'hi'}"
      ]
     },
     "execution_count": 38,
     "metadata": {},
     "output_type": "execute_result"
    }
   ],
   "source": [
    "interpreter.parse('hi')"
   ]
  }
 ],
 "metadata": {
  "kernelspec": {
   "display_name": "Python 3",
   "language": "python",
   "name": "python3"
  },
  "language_info": {
   "codemirror_mode": {
    "name": "ipython",
    "version": 3
   },
   "file_extension": ".py",
   "mimetype": "text/x-python",
   "name": "python",
   "nbconvert_exporter": "python",
   "pygments_lexer": "ipython3",
   "version": "3.6.7"
  }
 },
 "nbformat": 4,
 "nbformat_minor": 2
}
